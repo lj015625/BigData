{
 "cells": [
  {
   "cell_type": "markdown",
   "metadata": {},
   "source": [
    "# BIA 6305ACA Preparation/Analysis for Big Data Fall 2017\n",
    "## Assignment 3\n",
    "## Notebook 2\n",
    "### Stuent:  Leonardo Ji\n",
    "### 1/28/2018"
   ]
  },
  {
   "cell_type": "markdown",
   "metadata": {},
   "source": [
    "### Part 2:\n",
    "* Data munge and prepare reports using dataset Marathon Data (use the data set in this weeks content folder) \n",
    "* Add Headers: Name, Jersey Number, Gender, Age, Home Town, Final Time, etc.\n",
    "* Use either data munging environment you would like (R, Python) Convert all text to caps, do record counts by State, timeline analysis by age (group by)\n",
    "\n",
    "Produce these reports: \n",
    "*  All runners (no percentages) \n",
    "*  All male runners \n",
    "*  All female runners\n",
    "*  Which State has the fastest runners by gender"
   ]
  },
  {
   "cell_type": "code",
   "execution_count": 2,
   "metadata": {
    "collapsed": true
   },
   "outputs": [],
   "source": [
    "#Add packages\n",
    "#These are my standard packages I load for almost every project\n",
    "%matplotlib inline \n",
    "import numpy as np\n",
    "import matplotlib.pyplot as plt\n",
    "import pandas as pd\n",
    "pd.set_option('display.max_colwidth', 15000) #important for getting all the text\n",
    "import re\n",
    "import seaborn as sns\n",
    "import time\n",
    "#From Scikit Learn\n",
    "from sklearn import preprocessing\n",
    "from sklearn.model_selection  import train_test_split, cross_val_score, KFold\n",
    "from sklearn.model_selection import GridSearchCV\n",
    "from sklearn.metrics import accuracy_score, precision_score, recall_score, f1_score\n",
    "from sklearn.metrics import roc_curve, auc, confusion_matrix, classification_report\n",
    "#Notice I did not load my Datamining packages yet (ie decision tree). I will do that as I use them."
   ]
  },
  {
   "cell_type": "code",
   "execution_count": 3,
   "metadata": {},
   "outputs": [
    {
     "name": "stdout",
     "output_type": "stream",
     "text": [
      "C:\\Users\\lj015625\\Desktop\\Big Data\\Week3\n"
     ]
    }
   ],
   "source": [
    "cd C:\\\\Users\\\\lj015625\\\\Desktop\\\\Big Data\\\\Week3"
   ]
  },
  {
   "cell_type": "markdown",
   "metadata": {},
   "source": [
    "### Marathon Data Set\n",
    "Read text file line by line and dynamically set name and state. Then add each row one by one."
   ]
  },
  {
   "cell_type": "code",
   "execution_count": 4,
   "metadata": {},
   "outputs": [],
   "source": [
    "marathon = pd.DataFrame(columns=['Place','Name','Age','Sex/plc','Sex','Time','Pace','City','State'])"
   ]
  },
  {
   "cell_type": "code",
   "execution_count": 5,
   "metadata": {
    "collapsed": true
   },
   "outputs": [],
   "source": [
    "us_state = ['AL','AK','AZ','AR','CA','CO','CT','DE','FL','GA','HI','ID','IL','IN','IA','KS','KY','LA','ME','MD','MA','MI','MN',\n",
    "'MS','MO','MT','NE','NV','NH','NJ','NM','NY','NC','ND','OH','OK','OR','PA','RI','SC','SD','TN','TX','UT','VT','VA','WA','WV',\n",
    "'WI','WY']"
   ]
  },
  {
   "cell_type": "code",
   "execution_count": 6,
   "metadata": {
    "collapsed": true
   },
   "outputs": [],
   "source": [
    "for i, line in enumerate(open('C:/Users/lj015625/Desktop/Big Data/Week3/Marathon Data.txt')):\n",
    "    tokens = line.split()\n",
    "    if (len(tokens) > 8):\n",
    "        j = 0\n",
    "        place = 0\n",
    "        if (j < len(tokens) and tokens[j].isdigit()):\n",
    "            place = int(tokens[j])\n",
    "            j += 1\n",
    "        # name can be single token, multiple tokens.   \n",
    "        name = ''\n",
    "        while (j < len(tokens) and not tokens[j].isdigit()):\n",
    "            name = name + ' ' +  tokens[j]\n",
    "            j += 1\n",
    "            \n",
    "        age = 0\n",
    "        if (j < len(tokens) and tokens[j].isdigit()):\n",
    "            age = tokens[j]\n",
    "            j += 1\n",
    "            \n",
    "        sexplc = 0;\n",
    "        if (j < len(tokens)):\n",
    "            sexplc = int(tokens[j])\n",
    "            j += 1\n",
    "            \n",
    "        sex = ''\n",
    "        if (j < len(tokens)):\n",
    "            sex = tokens[j]\n",
    "            j += 1\n",
    "            \n",
    "        finishTime = ''\n",
    "        if (j < len(tokens)):\n",
    "            finishTime = tokens[j]\n",
    "            j += 1\n",
    "            \n",
    "        pace = ''\n",
    "        if (j < len(tokens)):\n",
    "            pace = tokens[j]\n",
    "            j += 1\n",
    "            \n",
    "        city = ''\n",
    "        while (j < len(tokens) and not tokens[j] in us_state):\n",
    "            city = city + ' ' + tokens[j]\n",
    "            j += 1\n",
    "        # state is listed in 50 state codes.    \n",
    "        state = ''\n",
    "        if (j < len(tokens) and tokens[j] in us_state):\n",
    "            state = tokens[j]\n",
    "        \n",
    "        if (place > 0):\n",
    "            new_row = [place, name, age, sexplc, sex, finishTime, pace, city, state];  \n",
    "            marathon.loc[i, :] = new_row\n"
   ]
  },
  {
   "cell_type": "code",
   "execution_count": 7,
   "metadata": {},
   "outputs": [
    {
     "data": {
      "text/plain": [
       "1534"
      ]
     },
     "execution_count": 7,
     "metadata": {},
     "output_type": "execute_result"
    }
   ],
   "source": [
    "marathon = marathon.reset_index(drop=True)\n",
    "len(marathon)"
   ]
  },
  {
   "cell_type": "code",
   "execution_count": 8,
   "metadata": {
    "collapsed": true
   },
   "outputs": [],
   "source": [
    "marathon['Place'] = marathon.Place.astype(int)\n",
    "marathon['Sex/plc'] = marathon.Age.astype(int)\n",
    "marathon['Age'] = marathon.Age.astype(int)"
   ]
  },
  {
   "cell_type": "code",
   "execution_count": 9,
   "metadata": {},
   "outputs": [
    {
     "data": {
      "text/plain": [
       "Place       int32\n",
       "Name       object\n",
       "Age         int32\n",
       "Sex/plc     int32\n",
       "Sex        object\n",
       "Time       object\n",
       "Pace       object\n",
       "City       object\n",
       "State      object\n",
       "dtype: object"
      ]
     },
     "execution_count": 9,
     "metadata": {},
     "output_type": "execute_result"
    }
   ],
   "source": [
    "marathon.dtypes"
   ]
  },
  {
   "cell_type": "code",
   "execution_count": 10,
   "metadata": {},
   "outputs": [
    {
     "data": {
      "text/html": [
       "<div>\n",
       "<style>\n",
       "    .dataframe thead tr:only-child th {\n",
       "        text-align: right;\n",
       "    }\n",
       "\n",
       "    .dataframe thead th {\n",
       "        text-align: left;\n",
       "    }\n",
       "\n",
       "    .dataframe tbody tr th {\n",
       "        vertical-align: top;\n",
       "    }\n",
       "</style>\n",
       "<table border=\"1\" class=\"dataframe\">\n",
       "  <thead>\n",
       "    <tr style=\"text-align: right;\">\n",
       "      <th></th>\n",
       "      <th>Place</th>\n",
       "      <th>Name</th>\n",
       "      <th>Age</th>\n",
       "      <th>Sex/plc</th>\n",
       "      <th>Sex</th>\n",
       "      <th>Time</th>\n",
       "      <th>Pace</th>\n",
       "      <th>City</th>\n",
       "      <th>State</th>\n",
       "    </tr>\n",
       "  </thead>\n",
       "  <tbody>\n",
       "    <tr>\n",
       "      <th>0</th>\n",
       "      <td>1</td>\n",
       "      <td>George Kitonga</td>\n",
       "      <td>27</td>\n",
       "      <td>27</td>\n",
       "      <td>M</td>\n",
       "      <td>2:21:23</td>\n",
       "      <td>5:24</td>\n",
       "      <td>CHAPEL HILL</td>\n",
       "      <td>NC</td>\n",
       "    </tr>\n",
       "    <tr>\n",
       "      <th>1</th>\n",
       "      <td>2</td>\n",
       "      <td>Anolrii Toptun</td>\n",
       "      <td>25</td>\n",
       "      <td>25</td>\n",
       "      <td>M</td>\n",
       "      <td>2:21:31</td>\n",
       "      <td>5:25</td>\n",
       "      <td>KIEV</td>\n",
       "      <td>AR</td>\n",
       "    </tr>\n",
       "    <tr>\n",
       "      <th>2</th>\n",
       "      <td>3</td>\n",
       "      <td>Sammy Kosgei</td>\n",
       "      <td>32</td>\n",
       "      <td>32</td>\n",
       "      <td>M</td>\n",
       "      <td>2:22:45</td>\n",
       "      <td>5:27</td>\n",
       "      <td>CHAPEL HILL</td>\n",
       "      <td>NC</td>\n",
       "    </tr>\n",
       "    <tr>\n",
       "      <th>3</th>\n",
       "      <td>4</td>\n",
       "      <td>Philip Rop</td>\n",
       "      <td>30</td>\n",
       "      <td>30</td>\n",
       "      <td>M</td>\n",
       "      <td>2:23:15</td>\n",
       "      <td>5:29</td>\n",
       "      <td>MOSORIOT</td>\n",
       "      <td>AR</td>\n",
       "    </tr>\n",
       "    <tr>\n",
       "      <th>4</th>\n",
       "      <td>5</td>\n",
       "      <td>Alfxev Khokhlov</td>\n",
       "      <td>29</td>\n",
       "      <td>29</td>\n",
       "      <td>M</td>\n",
       "      <td>2:23:54</td>\n",
       "      <td>5:30</td>\n",
       "      <td>KHABONOVSK</td>\n",
       "      <td>AR</td>\n",
       "    </tr>\n",
       "    <tr>\n",
       "      <th>5</th>\n",
       "      <td>6</td>\n",
       "      <td>Koen Neven</td>\n",
       "      <td>29</td>\n",
       "      <td>29</td>\n",
       "      <td>M</td>\n",
       "      <td>2:24:16</td>\n",
       "      <td>5:31</td>\n",
       "      <td>RIEMS</td>\n",
       "      <td></td>\n",
       "    </tr>\n",
       "    <tr>\n",
       "      <th>6</th>\n",
       "      <td>7</td>\n",
       "      <td>Ibrahim Limo</td>\n",
       "      <td>28</td>\n",
       "      <td>28</td>\n",
       "      <td>M</td>\n",
       "      <td>2:25:59</td>\n",
       "      <td>5:35</td>\n",
       "      <td>ALBUQUEROVE</td>\n",
       "      <td>NM</td>\n",
       "    </tr>\n",
       "    <tr>\n",
       "      <th>7</th>\n",
       "      <td>8</td>\n",
       "      <td>John Spider Sillery</td>\n",
       "      <td>34</td>\n",
       "      <td>34</td>\n",
       "      <td>M</td>\n",
       "      <td>2:27:52</td>\n",
       "      <td>5:39</td>\n",
       "      <td>BALTIMORE</td>\n",
       "      <td>MD</td>\n",
       "    </tr>\n",
       "    <tr>\n",
       "      <th>8</th>\n",
       "      <td>9</td>\n",
       "      <td>Justin Banks</td>\n",
       "      <td>26</td>\n",
       "      <td>26</td>\n",
       "      <td>M</td>\n",
       "      <td>2:29:36</td>\n",
       "      <td>5:43</td>\n",
       "      <td>LOUISVILLE</td>\n",
       "      <td>KY</td>\n",
       "    </tr>\n",
       "    <tr>\n",
       "      <th>9</th>\n",
       "      <td>10</td>\n",
       "      <td>Przemek Bobrowski</td>\n",
       "      <td>26</td>\n",
       "      <td>26</td>\n",
       "      <td>M</td>\n",
       "      <td>2:32:00</td>\n",
       "      <td>5:49</td>\n",
       "      <td>SEARCY</td>\n",
       "      <td>AR</td>\n",
       "    </tr>\n",
       "  </tbody>\n",
       "</table>\n",
       "</div>"
      ],
      "text/plain": [
       "   Place                  Name  Age  Sex/plc Sex     Time  Pace          City  \\\n",
       "0      1        George Kitonga   27       27   M  2:21:23  5:24   CHAPEL HILL   \n",
       "1      2        Anolrii Toptun   25       25   M  2:21:31  5:25          KIEV   \n",
       "2      3          Sammy Kosgei   32       32   M  2:22:45  5:27   CHAPEL HILL   \n",
       "3      4            Philip Rop   30       30   M  2:23:15  5:29      MOSORIOT   \n",
       "4      5       Alfxev Khokhlov   29       29   M  2:23:54  5:30    KHABONOVSK   \n",
       "5      6            Koen Neven   29       29   M  2:24:16  5:31         RIEMS   \n",
       "6      7          Ibrahim Limo   28       28   M  2:25:59  5:35   ALBUQUEROVE   \n",
       "7      8   John Spider Sillery   34       34   M  2:27:52  5:39     BALTIMORE   \n",
       "8      9          Justin Banks   26       26   M  2:29:36  5:43    LOUISVILLE   \n",
       "9     10     Przemek Bobrowski   26       26   M  2:32:00  5:49        SEARCY   \n",
       "\n",
       "  State  \n",
       "0    NC  \n",
       "1    AR  \n",
       "2    NC  \n",
       "3    AR  \n",
       "4    AR  \n",
       "5        \n",
       "6    NM  \n",
       "7    MD  \n",
       "8    KY  \n",
       "9    AR  "
      ]
     },
     "execution_count": 10,
     "metadata": {},
     "output_type": "execute_result"
    }
   ],
   "source": [
    "marathon.head(10)"
   ]
  },
  {
   "cell_type": "code",
   "execution_count": 11,
   "metadata": {},
   "outputs": [
    {
     "data": {
      "text/html": [
       "<div>\n",
       "<style>\n",
       "    .dataframe thead tr:only-child th {\n",
       "        text-align: right;\n",
       "    }\n",
       "\n",
       "    .dataframe thead th {\n",
       "        text-align: left;\n",
       "    }\n",
       "\n",
       "    .dataframe tbody tr th {\n",
       "        vertical-align: top;\n",
       "    }\n",
       "</style>\n",
       "<table border=\"1\" class=\"dataframe\">\n",
       "  <thead>\n",
       "    <tr style=\"text-align: right;\">\n",
       "      <th></th>\n",
       "      <th>Place</th>\n",
       "      <th>Name</th>\n",
       "      <th>Age</th>\n",
       "      <th>Sex/plc</th>\n",
       "      <th>Sex</th>\n",
       "      <th>Time</th>\n",
       "      <th>Pace</th>\n",
       "      <th>City</th>\n",
       "      <th>State</th>\n",
       "    </tr>\n",
       "  </thead>\n",
       "  <tbody>\n",
       "    <tr>\n",
       "      <th>1524</th>\n",
       "      <td>1525</td>\n",
       "      <td>Jim Ottinger</td>\n",
       "      <td>73</td>\n",
       "      <td>73</td>\n",
       "      <td>M</td>\n",
       "      <td>6:29:01</td>\n",
       "      <td>14:51</td>\n",
       "      <td>VESTAVIA HILLS</td>\n",
       "      <td>AL</td>\n",
       "    </tr>\n",
       "    <tr>\n",
       "      <th>1525</th>\n",
       "      <td>1526</td>\n",
       "      <td>Jeanine Cross</td>\n",
       "      <td>46</td>\n",
       "      <td>46</td>\n",
       "      <td>F</td>\n",
       "      <td>6:29:30</td>\n",
       "      <td>14:52</td>\n",
       "      <td>NOBLESVILLE</td>\n",
       "      <td>IN</td>\n",
       "    </tr>\n",
       "    <tr>\n",
       "      <th>1526</th>\n",
       "      <td>1527</td>\n",
       "      <td>Michael Miller</td>\n",
       "      <td>41</td>\n",
       "      <td>41</td>\n",
       "      <td>M</td>\n",
       "      <td>6:37:14</td>\n",
       "      <td>15:10</td>\n",
       "      <td>MARION</td>\n",
       "      <td>IL</td>\n",
       "    </tr>\n",
       "    <tr>\n",
       "      <th>1527</th>\n",
       "      <td>1528</td>\n",
       "      <td>Amy Harbison</td>\n",
       "      <td>49</td>\n",
       "      <td>49</td>\n",
       "      <td>F</td>\n",
       "      <td>6:37:41</td>\n",
       "      <td>15:11</td>\n",
       "      <td>EVANSVILLE</td>\n",
       "      <td>IN</td>\n",
       "    </tr>\n",
       "    <tr>\n",
       "      <th>1528</th>\n",
       "      <td>1529</td>\n",
       "      <td>Tod Schneider</td>\n",
       "      <td>41</td>\n",
       "      <td>41</td>\n",
       "      <td>M</td>\n",
       "      <td>6:38:27</td>\n",
       "      <td>15:13</td>\n",
       "      <td>EVANSVILLE</td>\n",
       "      <td>IN</td>\n",
       "    </tr>\n",
       "    <tr>\n",
       "      <th>1529</th>\n",
       "      <td>1530</td>\n",
       "      <td>Steve Kroeger</td>\n",
       "      <td>65</td>\n",
       "      <td>65</td>\n",
       "      <td>M</td>\n",
       "      <td>6:38:31</td>\n",
       "      <td>15:13</td>\n",
       "      <td>ELBERFELD</td>\n",
       "      <td>IN</td>\n",
       "    </tr>\n",
       "    <tr>\n",
       "      <th>1530</th>\n",
       "      <td>1531</td>\n",
       "      <td>Ashok Kumar</td>\n",
       "      <td>64</td>\n",
       "      <td>64</td>\n",
       "      <td>M</td>\n",
       "      <td>6:38:48</td>\n",
       "      <td>15:14</td>\n",
       "      <td>MEMPHIS</td>\n",
       "      <td>TN</td>\n",
       "    </tr>\n",
       "    <tr>\n",
       "      <th>1531</th>\n",
       "      <td>1532</td>\n",
       "      <td>Michelle Skinner</td>\n",
       "      <td>21</td>\n",
       "      <td>21</td>\n",
       "      <td>F</td>\n",
       "      <td>6:44:26</td>\n",
       "      <td>15:27</td>\n",
       "      <td>MUNCIE</td>\n",
       "      <td>IN</td>\n",
       "    </tr>\n",
       "    <tr>\n",
       "      <th>1532</th>\n",
       "      <td>1533</td>\n",
       "      <td>Lucia Patteson</td>\n",
       "      <td>51</td>\n",
       "      <td>51</td>\n",
       "      <td>F</td>\n",
       "      <td>6:47:30</td>\n",
       "      <td>15:34</td>\n",
       "      <td>MEMPHIS</td>\n",
       "      <td>TN</td>\n",
       "    </tr>\n",
       "    <tr>\n",
       "      <th>1533</th>\n",
       "      <td>1534</td>\n",
       "      <td>Candace Carpenter</td>\n",
       "      <td>21</td>\n",
       "      <td>21</td>\n",
       "      <td>F</td>\n",
       "      <td>6:47:30</td>\n",
       "      <td>15:34</td>\n",
       "      <td>MUNCIE</td>\n",
       "      <td>IN</td>\n",
       "    </tr>\n",
       "  </tbody>\n",
       "</table>\n",
       "</div>"
      ],
      "text/plain": [
       "      Place                Name  Age  Sex/plc Sex     Time   Pace  \\\n",
       "1524   1525        Jim Ottinger   73       73   M  6:29:01  14:51   \n",
       "1525   1526       Jeanine Cross   46       46   F  6:29:30  14:52   \n",
       "1526   1527      Michael Miller   41       41   M  6:37:14  15:10   \n",
       "1527   1528        Amy Harbison   49       49   F  6:37:41  15:11   \n",
       "1528   1529       Tod Schneider   41       41   M  6:38:27  15:13   \n",
       "1529   1530       Steve Kroeger   65       65   M  6:38:31  15:13   \n",
       "1530   1531         Ashok Kumar   64       64   M  6:38:48  15:14   \n",
       "1531   1532    Michelle Skinner   21       21   F  6:44:26  15:27   \n",
       "1532   1533      Lucia Patteson   51       51   F  6:47:30  15:34   \n",
       "1533   1534   Candace Carpenter   21       21   F  6:47:30  15:34   \n",
       "\n",
       "                 City State  \n",
       "1524   VESTAVIA HILLS    AL  \n",
       "1525      NOBLESVILLE    IN  \n",
       "1526           MARION    IL  \n",
       "1527       EVANSVILLE    IN  \n",
       "1528       EVANSVILLE    IN  \n",
       "1529        ELBERFELD    IN  \n",
       "1530          MEMPHIS    TN  \n",
       "1531           MUNCIE    IN  \n",
       "1532          MEMPHIS    TN  \n",
       "1533           MUNCIE    IN  "
      ]
     },
     "execution_count": 11,
     "metadata": {},
     "output_type": "execute_result"
    }
   ],
   "source": [
    "marathon.tail(10)"
   ]
  },
  {
   "cell_type": "markdown",
   "metadata": {},
   "source": [
    "#### Runner By State"
   ]
  },
  {
   "cell_type": "code",
   "execution_count": 454,
   "metadata": {},
   "outputs": [
    {
     "data": {
      "text/plain": [
       "State\n",
       "       25\n",
       "AL     85\n",
       "AR    143\n",
       "AZ      6\n",
       "CA      6\n",
       "CO      3\n",
       "CT      2\n",
       "DE      2\n",
       "FL      9\n",
       "GA     37\n",
       "HI      1\n",
       "IA      9\n",
       "IL     99\n",
       "IN     48\n",
       "KS     14\n",
       "KY     40\n",
       "LA     55\n",
       "MA      6\n",
       "MD      7\n",
       "ME      2\n",
       "MI     14\n",
       "MN     10\n",
       "MO    110\n",
       "MS    119\n",
       "MT      2\n",
       "NC      8\n",
       "ND      2\n",
       "NE      3\n",
       "NH      2\n",
       "NJ      3\n",
       "NM      5\n",
       "NY     19\n",
       "OH     21\n",
       "OK      4\n",
       "OR      3\n",
       "PA      8\n",
       "RI      1\n",
       "SC      9\n",
       "SD      2\n",
       "TN    528\n",
       "TX     28\n",
       "UT      4\n",
       "VA     11\n",
       "VT      3\n",
       "WA      5\n",
       "WI     11\n",
       "Name: State, dtype: int64"
      ]
     },
     "execution_count": 454,
     "metadata": {},
     "output_type": "execute_result"
    }
   ],
   "source": [
    "stateAgg = marathon.groupby('State')['State'].aggregate(len)\n",
    "stateAgg"
   ]
  },
  {
   "cell_type": "markdown",
   "metadata": {},
   "source": [
    "#### Runner by Sex"
   ]
  },
  {
   "cell_type": "code",
   "execution_count": 455,
   "metadata": {},
   "outputs": [
    {
     "data": {
      "text/plain": [
       "Sex\n",
       "F    545\n",
       "M    989\n",
       "Name: Sex, dtype: int64"
      ]
     },
     "execution_count": 455,
     "metadata": {},
     "output_type": "execute_result"
    }
   ],
   "source": [
    "sexAgg = marathon.groupby('Sex')['Sex'].aggregate(len)\n",
    "sexAgg"
   ]
  },
  {
   "cell_type": "code",
   "execution_count": 456,
   "metadata": {},
   "outputs": [
    {
     "data": {
      "text/plain": [
       "<matplotlib.text.Text at 0x220fb7f0>"
      ]
     },
     "execution_count": 456,
     "metadata": {},
     "output_type": "execute_result"
    },
    {
     "data": {
      "image/png": "[encoded data removed]",
      "text/plain": [
       "<matplotlib.figure.Figure at 0x1fdca358>"
      ]
     },
     "metadata": {},
     "output_type": "display_data"
    }
   ],
   "source": [
    "f,ax=plt.subplots(1,2,figsize=(18,8))\n",
    "stateAgg.plot(kind='bar', grid=False, ax=ax[0])\n",
    "ax[0].set_title('Runner from States')\n",
    "sexAgg.plot.pie(colors=['red', 'blue'],explode=[0, 0.1], autopct='%1.1f%%', ax=ax[1],shadow=True)\n",
    "ax[1].set_title('Runner Gender')"
   ]
  },
  {
   "cell_type": "markdown",
   "metadata": {},
   "source": [
    "#### Runner by Age"
   ]
  },
  {
   "cell_type": "code",
   "execution_count": 457,
   "metadata": {},
   "outputs": [
    {
     "data": {
      "text/plain": [
       "<matplotlib.text.Text at 0x22450b70>"
      ]
     },
     "execution_count": 457,
     "metadata": {},
     "output_type": "execute_result"
    },
    {
     "data": {
      "image/png": "[encoded data removed]",
      "text/plain": [
       "<matplotlib.figure.Figure at 0x1fcb4668>"
      ]
     },
     "metadata": {},
     "output_type": "display_data"
    }
   ],
   "source": [
    "ageAgg = marathon.groupby('Age')['Age'].aggregate(len)\n",
    "ageAgg.plot(kind='bar', grid=False, figsize=(20,10)).set_title('Runner Age')"
   ]
  },
  {
   "cell_type": "markdown",
   "metadata": {},
   "source": [
    "#### The state of Ohio has the fastest mean female runner placement."
   ]
  },
  {
   "cell_type": "code",
   "execution_count": 458,
   "metadata": {
    "collapsed": true
   },
   "outputs": [],
   "source": [
    "femaleMarathon = marathon[marathon.apply(lambda marathon: marathon['State'] in us_state and marathon['Sex'] == 'F', axis=1)]\n",
    "statePlace = femaleMarathon[['State','Sex/plc']].groupby(['State']).mean().sort_values('Sex/plc')"
   ]
  },
  {
   "cell_type": "code",
   "execution_count": 459,
   "metadata": {},
   "outputs": [
    {
     "data": {
      "text/plain": [
       "<matplotlib.text.Text at 0x226c2240>"
      ]
     },
     "execution_count": 459,
     "metadata": {},
     "output_type": "execute_result"
    },
    {
     "data": {
      "image/png": "[encoded data removed]",
      "text/plain": [
       "<matplotlib.figure.Figure at 0x1feda940>"
      ]
     },
     "metadata": {},
     "output_type": "display_data"
    }
   ],
   "source": [
    "statePlace.plot.bar(figsize=(20,10)).set_title('Mean Female Placement Per State')"
   ]
  },
  {
   "cell_type": "markdown",
   "metadata": {},
   "source": [
    "#### The state of Maine has the fastest mean male runner placement."
   ]
  },
  {
   "cell_type": "code",
   "execution_count": 462,
   "metadata": {
    "collapsed": true
   },
   "outputs": [],
   "source": [
    "maleMarathon = marathon[marathon.apply(lambda marathon: marathon['State'] in us_state and marathon['Sex'] == 'M', axis=1)]\n",
    "statePlace = maleMarathon[['State','Sex/plc']].groupby(['State']).mean().sort_values('Sex/plc')"
   ]
  },
  {
   "cell_type": "code",
   "execution_count": 463,
   "metadata": {},
   "outputs": [
    {
     "data": {
      "text/plain": [
       "<matplotlib.text.Text at 0x226da7f0>"
      ]
     },
     "execution_count": 463,
     "metadata": {},
     "output_type": "execute_result"
    },
    {
     "data": {
      "image/png": "[encoded data removed]",
      "text/plain": [
       "<matplotlib.figure.Figure at 0x22815ba8>"
      ]
     },
     "metadata": {},
     "output_type": "display_data"
    }
   ],
   "source": [
    "statePlace.plot.bar(figsize=(20,10)).set_title('Mean Male Placement Per State')"
   ]
  },
  {
   "cell_type": "markdown",
   "metadata": {},
   "source": [
    "### Summary\n",
    "* Read marathan runner unstructured text data.  \n",
    "* Produce the aggregrate reports by State, Sex, Age.\n",
    "* Find the fastest mean female and male runner by state."
   ]
  },
  {
   "cell_type": "markdown",
   "metadata": {},
   "source": [
    "### END"
   ]
  }
 ],
 "metadata": {
  "kernelspec": {
   "display_name": "Python 3",
   "language": "python",
   "name": "python3"
  },
  "language_info": {
   "codemirror_mode": {
    "name": "ipython",
    "version": 3
   },
   "file_extension": ".py",
   "mimetype": "text/x-python",
   "name": "python",
   "nbconvert_exporter": "python",
   "pygments_lexer": "ipython3",
   "version": "3.6.1"
  }
 },
 "nbformat": 4,
 "nbformat_minor": 2
}
