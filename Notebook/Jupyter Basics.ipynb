{
 "cells": [
  {
   "cell_type": "markdown",
   "metadata": {},
   "source": [
    "# Overview\n",
    "1.Create a New Notebook\n",
    "2. New > Python 3 or Root \n",
    "3. Review the Help Section\n",
    "   a. Take the Tour (Help>User Interface Tour)\n",
    "   b. Keyboard Shortcuts\n",
    "4. Change the name of the Notebook (Untitled to Testing Jupyter)\n",
    "5. Command Mode, Edit Mode\n",
    "\ta. Command Mode = Esc Key (Blue)\n",
    "\tb. Edit Mode = Enter Key (Green)> Edit Pencil Present\n",
    "6. Add a new cell below using shortcut key (Command Mode)"
   ]
  },
  {
   "cell_type": "code",
   "execution_count": null,
   "metadata": {
    "collapsed": true
   },
   "outputs": [],
   "source": [
    "#Shift Enter : Control Enter\n",
    "print(hello world)\n",
    "#'hello world'#interactive\n",
    "#print (\"hello world\")"
   ]
  },
  {
   "cell_type": "markdown",
   "metadata": {},
   "source": [
    "Order of Operation (Execution order)"
   ]
  },
  {
   "cell_type": "markdown",
   "metadata": {},
   "source": [
    "Markdown Language Overview : Dropdown Menu : Cell>CellType>Markdown"
   ]
  },
  {
   "cell_type": "markdown",
   "metadata": {},
   "source": [
    "#CODE SNIPIT BLOCK 1\n",
    "\n",
    "# Sample Headline\n",
    "\n",
    "*Note: Text will be italicized\n",
    "\n",
    "## Another Headline (H2)\n",
    "\n",
    "This is a normal paragraph. You can write anything here \n",
    "that you want.Markdown langauge is maintained as long as \n",
    "the Cell is maintained as such.\n",
    "\n",
    "Basic formatting of *italics* and **bold** is \n",
    "supported. This *can be **nested** like* so.\n",
    "\n",
    "### what the notebook shows\n",
    "\n",
    "1. How to get started with Notebooks\n",
    "2. How to execute code\n",
    "3. How to add Markdown\n",
    "4. And,,,,, other stuff"
   ]
  },
  {
   "cell_type": "code",
   "execution_count": null,
   "metadata": {
    "collapsed": true
   },
   "outputs": [],
   "source": [
    "#Special Commands Not in Pythin Code\n",
    "#Bash commands = !pip list\n",
    "#Magic Commands = %(Line Magics) or %%(Cell Magics)"
   ]
  },
  {
   "cell_type": "code",
   "execution_count": null,
   "metadata": {
    "collapsed": true
   },
   "outputs": [],
   "source": [
    "!pip list\n",
    "#!help"
   ]
  },
  {
   "cell_type": "code",
   "execution_count": null,
   "metadata": {
    "collapsed": true
   },
   "outputs": [],
   "source": [
    "%lsmagic#Available Line & Cell Magic commands"
   ]
  },
  {
   "cell_type": "code",
   "execution_count": null,
   "metadata": {
    "collapsed": true
   },
   "outputs": [],
   "source": [
    "%pwd #print working directory"
   ]
  },
  {
   "cell_type": "code",
   "execution_count": null,
   "metadata": {
    "collapsed": true,
    "scrolled": true
   },
   "outputs": [],
   "source": [
    "%ls"
   ]
  },
  {
   "cell_type": "code",
   "execution_count": null,
   "metadata": {
    "collapsed": true
   },
   "outputs": [],
   "source": [
    "%matplotlib inline"
   ]
  },
  {
   "cell_type": "code",
   "execution_count": null,
   "metadata": {
    "collapsed": true
   },
   "outputs": [],
   "source": [
    "#CODE SNIPIT BLOCK 2 #RE-START KERNEL\n",
    "\"\"\"\n",
    "Simple demo of a scatter plot\n",
    "\"\"\"\n",
    "\n",
    "import numpy as np\n",
    "import matplotlib.pyplot as plt\n",
    "\n",
    "N = 50\n",
    "x = np.random.rand(N)\n",
    "y = np.random.rand(N)\n",
    "colors = np.random.rand(N)\n",
    "area = np.pi * (15 * np.random.rand(N)) **2 # 0 to 15 points radius\n",
    "\n",
    "plt.scatter(x,y, s=area, c=colors, alpha= 0.5)\n",
    "plt.show"
   ]
  },
  {
   "cell_type": "raw",
   "metadata": {},
   "source": []
  },
  {
   "cell_type": "markdown",
   "metadata": {},
   "source": [
    "Assignment 1<br />\n",
    "Create a new Notebook<br />\n",
    "Name it: Scatter Plot Example<br />\n",
    "Print your current working directory<br />\n",
    "Print a list of all packages using the bash command = !<br />\n",
    "Create a scatter plot that represents 200 colors<br />\n"
   ]
  },
  {
   "cell_type": "code",
   "execution_count": null,
   "metadata": {
    "collapsed": true
   },
   "outputs": [],
   "source": []
  }
 ],
 "metadata": {
  "kernelspec": {
   "display_name": "Python 3",
   "language": "python",
   "name": "python3"
  },
  "language_info": {
   "codemirror_mode": {
    "name": "ipython",
    "version": 3
   },
   "file_extension": ".py",
   "mimetype": "text/x-python",
   "name": "python",
   "nbconvert_exporter": "python",
   "pygments_lexer": "ipython3",
   "version": "3.6.1"
  }
 },
 "nbformat": 4,
 "nbformat_minor": 2
}
